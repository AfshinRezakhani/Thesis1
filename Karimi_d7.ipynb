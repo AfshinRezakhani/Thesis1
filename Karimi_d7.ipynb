{
  "nbformat": 4,
  "nbformat_minor": 0,
  "metadata": {
    "colab": {
      "provenance": [],
      "authorship_tag": "ABX9TyPN3lijV02szRGYXW8dsPxK",
      "include_colab_link": true
    },
    "kernelspec": {
      "name": "python3",
      "display_name": "Python 3"
    },
    "language_info": {
      "name": "python"
    }
  },
  "cells": [
    {
      "cell_type": "markdown",
      "metadata": {
        "id": "view-in-github",
        "colab_type": "text"
      },
      "source": [
        "<a href=\"https://colab.research.google.com/github/AfshinRezakhani/Thesis1/blob/main/Karimi_d7.ipynb\" target=\"_parent\"><img src=\"https://colab.research.google.com/assets/colab-badge.svg\" alt=\"Open In Colab\"/></a>"
      ]
    },
    {
      "cell_type": "code",
      "execution_count": 2,
      "metadata": {
        "colab": {
          "base_uri": "https://localhost:8080/"
        },
        "id": "kZDicTlOWwmx",
        "outputId": "7b54d4fc-1a6d-4a49-ce66-6242240fbd63"
      },
      "outputs": [
        {
          "output_type": "stream",
          "name": "stdout",
          "text": [
            "Requirement already satisfied: kmodes in /usr/local/lib/python3.11/dist-packages (0.12.2)\n",
            "Requirement already satisfied: numpy>=1.10.4 in /usr/local/lib/python3.11/dist-packages (from kmodes) (1.26.4)\n",
            "Requirement already satisfied: scikit-learn>=0.22.0 in /usr/local/lib/python3.11/dist-packages (from kmodes) (1.6.1)\n",
            "Requirement already satisfied: scipy>=0.13.3 in /usr/local/lib/python3.11/dist-packages (from kmodes) (1.13.1)\n",
            "Requirement already satisfied: joblib>=0.11 in /usr/local/lib/python3.11/dist-packages (from kmodes) (1.4.2)\n",
            "Requirement already satisfied: threadpoolctl>=3.1.0 in /usr/local/lib/python3.11/dist-packages (from scikit-learn>=0.22.0->kmodes) (3.5.0)\n",
            "Initialization method and algorithm are deterministic. Setting n_init to 1.\n",
            "Init: initializing centroids\n",
            "Init: initializing clusters\n",
            "Starting iterations...\n",
            "Run 1, iteration: 1/100, moves: 0, cost: 32878.0\n",
            "Clustering Accuracy: 57.80%\n"
          ]
        }
      ],
      "source": [
        "!pip install kmodes\n",
        "\n",
        "import pandas as pd\n",
        "from kmodes.kmodes import KModes\n",
        "from sklearn.metrics import accuracy_score\n",
        "from sklearn.preprocessing import LabelEncoder\n",
        "from sklearn.model_selection import train_test_split\n",
        "\n",
        "# Load the dataset\n",
        "file_path = \"/content/d7.csv\"\n",
        "df = pd.read_csv(file_path)\n",
        "\n",
        "# Extract features and labels\n",
        "X = df.drop(columns=[\"F\"])\n",
        "y = df[\"F\"]\n",
        "\n",
        "# Convert numerical data to categorical using Label Encoding\n",
        "encoders = {}\n",
        "for col in X.columns:\n",
        "    le = LabelEncoder()\n",
        "    X[col] = le.fit_transform(X[col])\n",
        "    encoders[col] = le\n",
        "\n",
        "# Split the data into training and testing sets\n",
        "X_train, X_test, y_train, y_test = train_test_split(X, y, test_size=0.2, random_state=42)\n",
        "\n",
        "# Train K-Modes clustering model\n",
        "k_modes = KModes(n_clusters=len(y.unique()), init='Cao', n_init=5, verbose=1)\n",
        "y_pred = k_modes.fit_predict(X_train)\n",
        "\n",
        "# Map clusters to actual labels\n",
        "cluster_map = {}\n",
        "for cluster in set(y_pred):\n",
        "    cluster_indices = (y_pred == cluster)\n",
        "    majority_label = y_train[cluster_indices].mode()[0]\n",
        "    cluster_map[cluster] = majority_label\n",
        "\n",
        "# Convert predicted clusters to labels\n",
        "y_pred_mapped = [cluster_map[cluster] for cluster in k_modes.predict(X_test)]\n",
        "\n",
        "# Calculate accuracy\n",
        "accuracy = accuracy_score(y_test, y_pred_mapped)\n",
        "print(f\"Clustering Accuracy: {accuracy * 100:.2f}%\")\n"
      ]
    }
  ]
}